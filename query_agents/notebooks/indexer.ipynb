{
 "cells": [
  {
   "cell_type": "code",
   "execution_count": 2,
   "metadata": {},
   "outputs": [
    {
     "data": {
      "text/plain": [
       "'https://api.github.com/repos/mikepsinn/FDAi/contents/'"
      ]
     },
     "execution_count": 2,
     "metadata": {},
     "output_type": "execute_result"
    }
   ],
   "source": [
    "fetchapi_url = \"https://api.github.com/repos/{owner}/{repo}/contents/{path}\".format(**{\n",
    "  \"owner\": \"mikepsinn\",\n",
    "  \"repo\": \"FDAi\",\n",
    "  \"path\":\"\"\n",
    "})\n",
    "fetchapi_url"
   ]
  },
  {
   "cell_type": "code",
   "execution_count": 1,
   "metadata": {},
   "outputs": [
    {
     "data": {
      "text/plain": [
       "True"
      ]
     },
     "execution_count": 1,
     "metadata": {},
     "output_type": "execute_result"
    }
   ],
   "source": [
    "import os, requests\n",
    "from dotenv import load_dotenv  \n",
    "load_dotenv('../.env')"
   ]
  },
  {
   "cell_type": "code",
   "execution_count": 2,
   "metadata": {},
   "outputs": [],
   "source": [
    "def fetch_github_repo_contents_urls(\n",
    "    api_url,path=\"\"):\n",
    "    headers = {\n",
    "        \"Authorization\": f\"token {os.environ['GITHUB_TOKEN']}\",\n",
    "        \"Accept\": \"application/vnd.github.v3+json\"\n",
    "    }\n",
    "    response = requests.get(\n",
    "        api_url+path, headers=headers\n",
    "    )\n",
    "    urls = []\n",
    "        # Check if the request was successful\n",
    "    if response.status_code == 200:\n",
    "        contents = response.json()\n",
    "\n",
    "        # Ensure contents is a list before iterating\n",
    "        if not isinstance(contents, list):\n",
    "            print(f\"Expected a list but got {type(contents)}.\")\n",
    "            return urls\n",
    "\n",
    "        for content in contents:\n",
    "            print(\n",
    "                content.get('name', 'No name found'))\n",
    "            # If it's a directory, recurse into it\n",
    "            if content.get('type') == 'dir':\n",
    "                urls.extend(fetch_github_repo_contents_urls(api_url+path, content.get('path')))\n",
    "            else:\n",
    "                # Append the file URL to the list\n",
    "                urls.append(content.get('html_url', 'No URL found'))\n",
    "\n",
    "    else:\n",
    "        # Print out the error message from GitHub API\n",
    "        print(f\"Error fetching contents: {response.status_code} - {response.json().get('message')}\")\n",
    "\n",
    "    return urls"
   ]
  },
  {
   "cell_type": "code",
   "execution_count": null,
   "metadata": {},
   "outputs": [],
   "source": [
    "github_urls = fetch_github_repo_contents_urls(\n",
    "  fetchapi_url\n",
    ")"
   ]
  },
  {
   "cell_type": "code",
   "execution_count": 8,
   "metadata": {},
   "outputs": [
    {
     "name": "stdout",
     "output_type": "stream",
     "text": [
      "['https://github.com/mikepsinn/FDAi/blob/develop/.cirun.yml', 'https://github.com/mikepsinn/FDAi/blob/develop/.deepsource.toml', 'https://github.com/mikepsinn/FDAi/blob/develop/.editorconfig', 'https://github.com/mikepsinn/FDAi/blob/develop/.env.example', 'https://github.com/mikepsinn/FDAi/blob/develop/.eslintrc.json', 'https://github.com/mikepsinn/FDAi/blob/develop/.gitattributes', 'https://github.com/mikepsinn/FDAi/blob/develop/.gitignore', 'https://github.com/mikepsinn/FDAi/blob/develop/.idea/rcb-settings.xml', 'https://github.com/mikepsinn/FDAi/blob/develop/.mega-linter.yml', 'https://github.com/mikepsinn/FDAi/blob/develop/.prettierignore', 'https://github.com/mikepsinn/FDAi/blob/develop/.prettierrc', 'https://github.com/mikepsinn/FDAi/blob/develop/.run/api-lib.run.xml', 'https://github.com/mikepsinn/FDAi/blob/develop/.run/api-spec.run.xml', 'https://github.com/mikepsinn/FDAi/blob/develop/.run/start%20api.run.xml', 'https://github.com/mikepsinn/FDAi/blob/develop/.run/swagger.json-converter.run.xml', 'https://github.com/mikepsinn/FDAi/blob/develop/.secretlintrc.json', 'https://github.com/mikepsinn/FDAi/blob/develop/.spectral.json', 'https://github.com/mikepsinn/FDAi/blob/develop/.vercel/README.txt', 'https://github.com/mikepsinn/FDAi/blob/develop/.vercel/project.json', 'https://github.com/mikepsinn/FDAi/blob/develop/.voters.yml', 'https://github.com/mikepsinn/FDAi/blob/develop/.voting.yml', 'https://github.com/mikepsinn/FDAi/blob/develop/.vscode/extensions.json', 'https://github.com/mikepsinn/FDAi/blob/develop/.vscode/settings.json', 'https://github.com/mikepsinn/FDAi/blob/develop/.yamllint.yml', 'https://github.com/mikepsinn/FDAi/blob/develop/README.md', 'https://github.com/mikepsinn/FDAi/blob/develop/SECURITY.md', 'https://github.com/mikepsinn/FDAi/blob/develop/apps/.gitkeep', 'https://github.com/mikepsinn/FDAi/blob/develop/babel.config.json', 'https://github.com/mikepsinn/FDAi/blob/develop/dev/README.md', 'https://github.com/mikepsinn/FDAi/blob/develop/dev/index.js', 'https://github.com/mikepsinn/FDAi/blob/develop/dev/index.ts', 'https://github.com/mikepsinn/FDAi/blob/develop/dev/palette.jsx', 'https://github.com/mikepsinn/FDAi/blob/develop/dev/palette.tsx', 'https://github.com/mikepsinn/FDAi/blob/develop/dev/previews.jsx', 'https://github.com/mikepsinn/FDAi/blob/develop/dev/previews.tsx', 'https://github.com/mikepsinn/FDAi/blob/develop/dev/useInitial.js', 'https://github.com/mikepsinn/FDAi/blob/develop/dev/useInitial.ts', 'https://github.com/mikepsinn/FDAi/blob/develop/docs/autonomous-agent-framework-for-nonprofits.md', 'https://github.com/mikepsinn/FDAi/blob/develop/docs/benefits.md', 'https://github.com/mikepsinn/FDAi/blob/develop/docs/budget.md', 'https://github.com/mikepsinn/FDAi/blob/develop/docs/collabathon.md', 'https://github.com/mikepsinn/FDAi/blob/develop/docs/contributing.md', 'https://github.com/mikepsinn/FDAi/blob/develop/docs/fdai-act.md', 'https://github.com/mikepsinn/FDAi/blob/develop/docs/features.md', 'https://github.com/mikepsinn/FDAi/blob/develop/docs/mint.json', 'https://github.com/mikepsinn/FDAi/blob/develop/docs/roadmap.md', 'https://github.com/mikepsinn/FDAi/blob/develop/docs/staff.md', 'https://github.com/mikepsinn/FDAi/blob/develop/docs/stuff-that-sucks.md', 'https://github.com/mikepsinn/FDAi/blob/develop/jest.config.js', 'https://github.com/mikepsinn/FDAi/blob/develop/jest.config.ts', 'https://github.com/mikepsinn/FDAi/blob/develop/jest.preset.js', 'https://github.com/mikepsinn/FDAi/blob/develop/libs/.gitkeep', 'https://github.com/mikepsinn/FDAi/blob/develop/migrations.json', 'https://github.com/mikepsinn/FDAi/blob/develop/mkdocs.yml', 'https://github.com/mikepsinn/FDAi/blob/develop/nx.json', 'https://github.com/mikepsinn/FDAi/blob/develop/openapitools.json', 'https://github.com/mikepsinn/FDAi/blob/develop/package.json', 'https://github.com/mikepsinn/FDAi/blob/develop/proposals/dfda-1-use-github-for-task-management.md', 'https://github.com/mikepsinn/FDAi/blob/develop/qodana.yaml', 'https://github.com/mikepsinn/FDAi/blob/develop/redocly.yaml', 'https://github.com/mikepsinn/FDAi/blob/develop/scripts/docker_compose.sh', 'https://github.com/mikepsinn/FDAi/blob/develop/scripts/filename-lengths.js', 'https://github.com/mikepsinn/FDAi/blob/develop/scripts/list_occurances_of_string.js', 'https://github.com/mikepsinn/FDAi/blob/develop/scripts/remove-unused-images.js', 'https://github.com/mikepsinn/FDAi/blob/develop/scripts/replace.js', 'https://github.com/mikepsinn/FDAi/blob/develop/scripts/sqlite-2-csv.js', 'https://github.com/mikepsinn/FDAi/blob/develop/sweep.yaml', 'https://github.com/mikepsinn/FDAi/blob/develop/techstack.md', 'https://github.com/mikepsinn/FDAi/blob/develop/techstack.yml', 'https://github.com/mikepsinn/FDAi/blob/develop/tools/tsconfig.tools.json', 'https://github.com/mikepsinn/FDAi/blob/develop/tsconfig.base.json', 'https://github.com/mikepsinn/FDAi/blob/develop/yarn.lock']\n"
     ]
    }
   ],
   "source": [
    "print(github_urls)"
   ]
  }
 ],
 "metadata": {
  "kernelspec": {
   "display_name": "app",
   "language": "python",
   "name": "python3"
  },
  "language_info": {
   "codemirror_mode": {
    "name": "ipython",
    "version": 3
   },
   "file_extension": ".py",
   "mimetype": "text/x-python",
   "name": "python",
   "nbconvert_exporter": "python",
   "pygments_lexer": "ipython3",
   "version": "3.11.7"
  }
 },
 "nbformat": 4,
 "nbformat_minor": 2
}
